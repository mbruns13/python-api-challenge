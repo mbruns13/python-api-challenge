{
 "cells": [
  {
   "cell_type": "markdown",
   "metadata": {},
   "source": [
    "# WeatherPy\n",
    "----\n",
    "\n",
    "#### Note\n",
    "* Instructions have been included for each segment. You do not have to follow them exactly, but they are included to help you think through the steps."
   ]
  },
  {
   "cell_type": "code",
   "execution_count": 1,
   "metadata": {
    "scrolled": true
   },
   "outputs": [],
   "source": [
    "# Dependencies and Setup\n",
    "import matplotlib.pyplot as plt\n",
    "import pandas as pd\n",
    "import numpy as np\n",
    "import requests\n",
    "import time\n",
    "from scipy.stats import linregress\n",
    "\n",
    "# Import API key\n",
    "from api_keys import weather_api_key\n",
    "\n",
    "# Incorporated citipy to determine city based on latitude and longitude\n",
    "from citipy import citipy\n",
    "\n",
    "# Output File (CSV)\n",
    "output_data_file = \"output_data/cities.csv\"\n",
    "\n",
    "# Range of latitudes and longitudes\n",
    "lat_range = (-90, 90)\n",
    "lng_range = (-180, 180)"
   ]
  },
  {
   "cell_type": "markdown",
   "metadata": {},
   "source": [
    "## Generate Cities List"
   ]
  },
  {
   "cell_type": "code",
   "execution_count": 2,
   "metadata": {},
   "outputs": [
    {
     "data": {
      "text/plain": [
       "624"
      ]
     },
     "execution_count": 2,
     "metadata": {},
     "output_type": "execute_result"
    }
   ],
   "source": [
    "# List for holding lat_lngs and cities\n",
    "lat_lngs = []\n",
    "cities = []\n",
    "\n",
    "# Create a set of random lat and lng combinations\n",
    "lats = np.random.uniform(lat_range[0], lat_range[1], size=1500)\n",
    "lngs = np.random.uniform(lng_range[0], lng_range[1], size=1500)\n",
    "lat_lngs = zip(lats, lngs)\n",
    "\n",
    "# Identify nearest city for each lat, lng combination\n",
    "for lat_lng in lat_lngs:\n",
    "    city = citipy.nearest_city(lat_lng[0], lat_lng[1]).city_name\n",
    "    \n",
    "    # If the city is unique, then add it to a our cities list\n",
    "    if city not in cities:\n",
    "        cities.append(city)\n",
    "\n",
    "# Print the city count to confirm sufficient count\n",
    "len(cities)"
   ]
  },
  {
   "cell_type": "code",
   "execution_count": null,
   "metadata": {},
   "outputs": [],
   "source": []
  },
  {
   "cell_type": "markdown",
   "metadata": {},
   "source": [
    "### Perform API Calls\n",
    "* Perform a weather check on each city using a series of successive API calls.\n",
    "* Include a print log of each city as it's being processed (with the city number and city name).\n"
   ]
  },
  {
   "cell_type": "code",
   "execution_count": 3,
   "metadata": {
    "scrolled": true,
    "tags": []
   },
   "outputs": [
    {
     "name": "stdout",
     "output_type": "stream",
     "text": [
      "Beginning Data Retrieval\n",
      "-----------------------------\n",
      "Processing Record 0 of Set 1 | eydhafushi\n",
      "Processing Record 1 of Set 1 | jiazi\n",
      "Processing Record 2 of Set 1 | illoqqortoormiut\n",
      "City not found. Skipping...\n",
      "Processing Record 2 of Set 1 | alice springs\n",
      "Processing Record 3 of Set 1 | hambantota\n",
      "Processing Record 4 of Set 1 | georgetown\n",
      "Processing Record 5 of Set 1 | belushya guba\n",
      "City not found. Skipping...\n",
      "Processing Record 5 of Set 1 | leningradskiy\n",
      "Processing Record 6 of Set 1 | thompson\n",
      "Processing Record 7 of Set 1 | tumannyy\n",
      "City not found. Skipping...\n",
      "Processing Record 7 of Set 1 | jacmel\n",
      "Processing Record 8 of Set 1 | nyurba\n",
      "Processing Record 9 of Set 1 | qaanaaq\n",
      "Processing Record 10 of Set 1 | atuona\n",
      "Processing Record 11 of Set 1 | ilulissat\n",
      "Processing Record 12 of Set 1 | cape town\n",
      "Processing Record 13 of Set 1 | salalah\n",
      "Processing Record 14 of Set 1 | esperance\n",
      "Processing Record 15 of Set 1 | saldanha\n",
      "Processing Record 16 of Set 1 | bluff\n",
      "Processing Record 17 of Set 1 | klaksvik\n",
      "Processing Record 18 of Set 1 | broome\n",
      "Processing Record 19 of Set 1 | kologriv\n",
      "Processing Record 20 of Set 1 | saint anthony\n",
      "Processing Record 21 of Set 1 | albany\n",
      "Processing Record 22 of Set 1 | taolanaro\n",
      "City not found. Skipping...\n",
      "Processing Record 22 of Set 1 | lompoc\n",
      "Processing Record 23 of Set 1 | ribeira grande\n",
      "Processing Record 24 of Set 1 | butaritari\n",
      "Processing Record 25 of Set 1 | rawson\n",
      "Processing Record 26 of Set 1 | yellowknife\n",
      "Processing Record 27 of Set 1 | vila franca do campo\n",
      "Processing Record 28 of Set 1 | mayskiy\n",
      "Processing Record 29 of Set 1 | shangzhi\n",
      "Processing Record 30 of Set 1 | samusu\n",
      "City not found. Skipping...\n",
      "Processing Record 30 of Set 1 | rikitea\n",
      "Processing Record 31 of Set 1 | vila do maio\n",
      "Processing Record 32 of Set 1 | fairbanks\n",
      "Processing Record 33 of Set 1 | nikolskoye\n",
      "Processing Record 34 of Set 1 | ushuaia\n",
      "Processing Record 35 of Set 1 | yialos\n",
      "City not found. Skipping...\n",
      "Processing Record 35 of Set 1 | bredasdorp\n",
      "Processing Record 36 of Set 1 | umzimvubu\n",
      "City not found. Skipping...\n",
      "Processing Record 36 of Set 1 | aripuana\n",
      "Processing Record 37 of Set 1 | new norfolk\n",
      "Processing Record 38 of Set 1 | ponta do sol\n",
      "Processing Record 39 of Set 1 | vestmannaeyjar\n",
      "Processing Record 40 of Set 1 | tsihombe\n",
      "City not found. Skipping...\n",
      "Processing Record 40 of Set 1 | tura\n",
      "Processing Record 41 of Set 1 | illela\n",
      "Processing Record 42 of Set 1 | hjelset\n",
      "Processing Record 43 of Set 1 | vila velha\n",
      "Processing Record 44 of Set 1 | general pico\n",
      "Processing Record 45 of Set 1 | saint-augustin\n",
      "Processing Record 46 of Set 1 | tasiilaq\n",
      "Processing Record 47 of Set 1 | atambua\n",
      "Processing Record 48 of Set 1 | vestmanna\n",
      "Processing Record 49 of Set 1 | sentyabrskiy\n",
      "City not found. Skipping...\n",
      "Processing Record 49 of Set 1 | sept-iles\n",
      "Processing Record 0 of Set 2 | punta arenas\n",
      "Processing Record 1 of Set 2 | port elizabeth\n",
      "Processing Record 2 of Set 2 | tabou\n",
      "Processing Record 3 of Set 2 | ashqelon\n",
      "Processing Record 4 of Set 2 | san patricio\n",
      "Processing Record 5 of Set 2 | hasaki\n",
      "Processing Record 6 of Set 2 | araouane\n",
      "Processing Record 7 of Set 2 | christiansburg\n",
      "Processing Record 8 of Set 2 | lagoa\n",
      "Processing Record 9 of Set 2 | tuktoyaktuk\n",
      "Processing Record 10 of Set 2 | kodiak\n",
      "Processing Record 11 of Set 2 | port alfred\n",
      "Processing Record 12 of Set 2 | busselton\n",
      "Processing Record 13 of Set 2 | kaitangata\n",
      "Processing Record 14 of Set 2 | karak\n",
      "Processing Record 15 of Set 2 | inhambane\n",
      "Processing Record 16 of Set 2 | pangody\n",
      "Processing Record 17 of Set 2 | iquique\n",
      "Processing Record 18 of Set 2 | ambodifototra\n",
      "City not found. Skipping...\n",
      "Processing Record 18 of Set 2 | chongwe\n",
      "Processing Record 19 of Set 2 | ituni\n",
      "City not found. Skipping...\n",
      "Processing Record 19 of Set 2 | nome\n",
      "Processing Record 20 of Set 2 | camalu\n",
      "Processing Record 21 of Set 2 | hermanus\n",
      "Processing Record 22 of Set 2 | kapaa\n",
      "Processing Record 23 of Set 2 | kuala terengganu\n",
      "Processing Record 24 of Set 2 | wanning\n",
      "Processing Record 25 of Set 2 | ureki\n",
      "Processing Record 26 of Set 2 | mahadday weyne\n",
      "City not found. Skipping...\n",
      "Processing Record 26 of Set 2 | saskylakh\n",
      "Processing Record 27 of Set 2 | faanui\n",
      "Processing Record 28 of Set 2 | college station\n",
      "Processing Record 29 of Set 2 | pagudpud\n",
      "Processing Record 30 of Set 2 | maceio\n",
      "Processing Record 31 of Set 2 | black river\n",
      "Processing Record 32 of Set 2 | yunjinghong\n",
      "City not found. Skipping...\n",
      "Processing Record 32 of Set 2 | hobart\n",
      "Processing Record 33 of Set 2 | mahebourg\n",
      "Processing Record 34 of Set 2 | vaini\n",
      "Processing Record 35 of Set 2 | baculin\n",
      "Processing Record 36 of Set 2 | hirara\n",
      "Processing Record 37 of Set 2 | pangnirtung\n",
      "Processing Record 38 of Set 2 | portland\n",
      "Processing Record 39 of Set 2 | monteagudo\n",
      "Processing Record 40 of Set 2 | padang\n",
      "Processing Record 41 of Set 2 | aykhal\n",
      "Processing Record 42 of Set 2 | castro\n",
      "Processing Record 43 of Set 2 | puerto ayora\n",
      "Processing Record 44 of Set 2 | yerbogachen\n",
      "Processing Record 45 of Set 2 | raipur\n",
      "Processing Record 46 of Set 2 | mataura\n",
      "Processing Record 47 of Set 2 | luanda\n",
      "Processing Record 48 of Set 2 | sabang\n",
      "Processing Record 49 of Set 2 | barrow\n",
      "Processing Record 0 of Set 3 | hashtrud\n",
      "Processing Record 1 of Set 3 | ust-maya\n",
      "Processing Record 2 of Set 3 | povorino\n",
      "Processing Record 3 of Set 3 | chara\n",
      "Processing Record 4 of Set 3 | ghanzi\n",
      "Processing Record 5 of Set 3 | port hawkesbury\n",
      "Processing Record 6 of Set 3 | carutapera\n",
      "Processing Record 7 of Set 3 | chodavaram\n",
      "Processing Record 8 of Set 3 | katsuura\n",
      "Processing Record 9 of Set 3 | bend\n",
      "Processing Record 10 of Set 3 | sakakah\n",
      "Processing Record 11 of Set 3 | sistranda\n",
      "Processing Record 12 of Set 3 | carnarvon\n",
      "Processing Record 13 of Set 3 | severo-kurilsk\n",
      "Processing Record 14 of Set 3 | trat\n",
      "Processing Record 15 of Set 3 | riyadh\n",
      "Processing Record 16 of Set 3 | rawannawi\n",
      "City not found. Skipping...\n",
      "Processing Record 16 of Set 3 | iqaluit\n",
      "Processing Record 17 of Set 3 | talnakh\n",
      "Processing Record 18 of Set 3 | komsomolskiy\n",
      "Processing Record 19 of Set 3 | lebu\n",
      "Processing Record 20 of Set 3 | arras\n",
      "Processing Record 21 of Set 3 | cabra\n",
      "Processing Record 22 of Set 3 | lasa\n",
      "Processing Record 23 of Set 3 | grand river south east\n",
      "City not found. Skipping...\n",
      "Processing Record 23 of Set 3 | alofi\n",
      "Processing Record 24 of Set 3 | coquimbo\n",
      "Processing Record 25 of Set 3 | ginir\n",
      "Processing Record 26 of Set 3 | santa cruz\n",
      "Processing Record 27 of Set 3 | torbay\n",
      "Processing Record 28 of Set 3 | norman wells\n",
      "Processing Record 29 of Set 3 | victoria\n",
      "Processing Record 30 of Set 3 | samarai\n",
      "Processing Record 31 of Set 3 | saint-joseph\n",
      "Processing Record 32 of Set 3 | aitape\n",
      "Processing Record 33 of Set 3 | chake chake\n",
      "Processing Record 34 of Set 3 | kendari\n",
      "Processing Record 35 of Set 3 | avarua\n",
      "Processing Record 36 of Set 3 | dukat\n",
      "Processing Record 37 of Set 3 | saint george\n",
      "Processing Record 38 of Set 3 | isangel\n",
      "Processing Record 39 of Set 3 | maragogi\n",
      "Processing Record 40 of Set 3 | malanville\n",
      "Processing Record 41 of Set 3 | fuyu\n",
      "Processing Record 42 of Set 3 | richards bay\n",
      "Processing Record 43 of Set 3 | khatanga\n",
      "Processing Record 44 of Set 3 | praia da vitoria\n",
      "Processing Record 45 of Set 3 | voi\n",
      "Processing Record 46 of Set 3 | sao paulo de olivenca\n",
      "Processing Record 47 of Set 3 | omsukchan\n",
      "Processing Record 48 of Set 3 | coihaique\n",
      "Processing Record 49 of Set 3 | loukhi\n",
      "Processing Record 0 of Set 4 | poum\n",
      "Processing Record 1 of Set 4 | ormara\n",
      "Processing Record 2 of Set 4 | mar del plata\n",
      "Processing Record 3 of Set 4 | los llanos de aridane\n",
      "Processing Record 4 of Set 4 | yagoua\n",
      "Processing Record 5 of Set 4 | rey bouba\n",
      "Processing Record 6 of Set 4 | beringovskiy\n",
      "Processing Record 7 of Set 4 | santiago del estero\n",
      "Processing Record 8 of Set 4 | moindou\n",
      "Processing Record 9 of Set 4 | harper\n",
      "Processing Record 10 of Set 4 | aquiraz\n",
      "Processing Record 11 of Set 4 | takoradi\n",
      "Processing Record 12 of Set 4 | moose factory\n",
      "Processing Record 13 of Set 4 | severnyy\n",
      "Processing Record 14 of Set 4 | portalegre\n",
      "Processing Record 15 of Set 4 | ikom\n",
      "Processing Record 16 of Set 4 | yulara\n",
      "Processing Record 17 of Set 4 | amarante\n",
      "Processing Record 18 of Set 4 | baruun-urt\n",
      "Processing Record 19 of Set 4 | pecos\n",
      "Processing Record 20 of Set 4 | cabo san lucas\n",
      "Processing Record 21 of Set 4 | byron bay\n",
      "Processing Record 22 of Set 4 | ca mau\n",
      "Processing Record 23 of Set 4 | karkaralinsk\n",
      "City not found. Skipping...\n",
      "Processing Record 23 of Set 4 | upernavik\n",
      "Processing Record 24 of Set 4 | raudeberg\n",
      "Processing Record 25 of Set 4 | chuy\n",
      "Processing Record 26 of Set 4 | sao joao da barra\n",
      "Processing Record 27 of Set 4 | sao filipe\n",
      "Processing Record 28 of Set 4 | hithadhoo\n",
      "Processing Record 29 of Set 4 | cockburn town\n",
      "Processing Record 30 of Set 4 | tirano\n",
      "Processing Record 31 of Set 4 | ostrovnoy\n",
      "Processing Record 32 of Set 4 | malwan\n",
      "City not found. Skipping...\n",
      "Processing Record 32 of Set 4 | provideniya\n",
      "Processing Record 33 of Set 4 | piney green\n",
      "Processing Record 34 of Set 4 | la ronge\n",
      "Processing Record 35 of Set 4 | dikson\n",
      "Processing Record 36 of Set 4 | ijaki\n",
      "City not found. Skipping...\n",
      "Processing Record 36 of Set 4 | port hardy\n",
      "Processing Record 37 of Set 4 | rosetta\n",
      "Processing Record 38 of Set 4 | verkhoyansk\n",
      "Processing Record 39 of Set 4 | haines junction\n",
      "Processing Record 40 of Set 4 | abu samrah\n",
      "Processing Record 41 of Set 4 | hobyo\n",
      "Processing Record 42 of Set 4 | lolua\n",
      "City not found. Skipping...\n",
      "Processing Record 42 of Set 4 | namatanai\n",
      "Processing Record 43 of Set 4 | labuhan\n",
      "Processing Record 44 of Set 4 | hailey\n",
      "Processing Record 45 of Set 4 | port lincoln\n",
      "Processing Record 46 of Set 4 | bay roberts\n",
      "Processing Record 47 of Set 4 | tynda\n",
      "Processing Record 48 of Set 4 | cabedelo\n",
      "Processing Record 49 of Set 4 | buala\n",
      "Processing Record 0 of Set 5 | longyearbyen\n",
      "Processing Record 1 of Set 5 | leh\n",
      "Processing Record 2 of Set 5 | zdvinsk\n",
      "Processing Record 3 of Set 5 | sharkan\n",
      "Processing Record 4 of Set 5 | cayenne\n",
      "Processing Record 5 of Set 5 | pishva\n",
      "Processing Record 6 of Set 5 | sitka\n",
      "Processing Record 7 of Set 5 | altay\n",
      "Processing Record 8 of Set 5 | bremerton\n",
      "Processing Record 9 of Set 5 | jijiga\n",
      "Processing Record 10 of Set 5 | koslan\n",
      "Processing Record 11 of Set 5 | shellbrook\n",
      "Processing Record 12 of Set 5 | tallahassee\n",
      "Processing Record 13 of Set 5 | santa maria\n",
      "Processing Record 14 of Set 5 | bethel\n",
      "Processing Record 15 of Set 5 | ipeti\n",
      "City not found. Skipping...\n",
      "Processing Record 15 of Set 5 | dolinsk\n",
      "Processing Record 16 of Set 5 | arraial do cabo\n",
      "Processing Record 17 of Set 5 | hofn\n",
      "Processing Record 18 of Set 5 | upington\n",
      "Processing Record 19 of Set 5 | amderma\n",
      "City not found. Skipping...\n",
      "Processing Record 19 of Set 5 | sinnamary\n",
      "Processing Record 20 of Set 5 | flinders\n",
      "Processing Record 21 of Set 5 | show low\n",
      "Processing Record 22 of Set 5 | babanusah\n",
      "City not found. Skipping...\n",
      "Processing Record 22 of Set 5 | jamestown\n",
      "Processing Record 23 of Set 5 | roanoke rapids\n",
      "Processing Record 24 of Set 5 | ruatoria\n",
      "City not found. Skipping...\n",
      "Processing Record 24 of Set 5 | urucara\n",
      "Processing Record 25 of Set 5 | cidreira\n",
      "Processing Record 26 of Set 5 | nizhneyansk\n",
      "City not found. Skipping...\n",
      "Processing Record 26 of Set 5 | fairview\n",
      "Processing Record 27 of Set 5 | kachug\n",
      "Processing Record 28 of Set 5 | plettenberg bay\n",
      "Processing Record 29 of Set 5 | wawa\n",
      "Processing Record 30 of Set 5 | nikel\n",
      "Processing Record 31 of Set 5 | islamabad\n",
      "Processing Record 32 of Set 5 | scottsburgh\n",
      "City not found. Skipping...\n",
      "Processing Record 32 of Set 5 | taoudenni\n",
      "Processing Record 33 of Set 5 | chagda\n",
      "City not found. Skipping...\n",
      "Processing Record 33 of Set 5 | rungata\n",
      "City not found. Skipping...\n",
      "Processing Record 33 of Set 5 | morgan city\n",
      "Processing Record 34 of Set 5 | clyde river\n",
      "Processing Record 35 of Set 5 | bakchar\n",
      "Processing Record 36 of Set 5 | hilo\n",
      "Processing Record 37 of Set 5 | lekoni\n",
      "Processing Record 38 of Set 5 | bud\n",
      "Processing Record 39 of Set 5 | requena\n",
      "Processing Record 40 of Set 5 | karaul\n",
      "City not found. Skipping...\n",
      "Processing Record 40 of Set 5 | lata\n",
      "Processing Record 41 of Set 5 | anadyr\n",
      "Processing Record 42 of Set 5 | ishigaki\n",
      "Processing Record 43 of Set 5 | bitung\n",
      "Processing Record 44 of Set 5 | touros\n",
      "Processing Record 45 of Set 5 | launceston\n",
      "Processing Record 46 of Set 5 | eirunepe\n",
      "Processing Record 47 of Set 5 | lanzhou\n",
      "Processing Record 48 of Set 5 | umuarama\n",
      "Processing Record 49 of Set 5 | aloleng\n",
      "Processing Record 0 of Set 6 | pangai\n",
      "Processing Record 1 of Set 6 | antofagasta\n",
      "Processing Record 2 of Set 6 | ambilobe\n",
      "Processing Record 3 of Set 6 | vikulovo\n",
      "Processing Record 4 of Set 6 | phan rang\n",
      "City not found. Skipping...\n",
      "Processing Record 4 of Set 6 | westport\n",
      "Processing Record 5 of Set 6 | de-kastri\n",
      "Processing Record 6 of Set 6 | roald\n",
      "Processing Record 7 of Set 6 | shebunino\n",
      "Processing Record 8 of Set 6 | turayf\n",
      "Processing Record 9 of Set 6 | merauke\n",
      "Processing Record 10 of Set 6 | barbar\n",
      "City not found. Skipping...\n",
      "Processing Record 10 of Set 6 | fortuna\n",
      "Processing Record 11 of Set 6 | bambui\n",
      "Processing Record 12 of Set 6 | sisimiut\n",
      "Processing Record 13 of Set 6 | noormarkku\n",
      "Processing Record 14 of Set 6 | iquitos\n",
      "Processing Record 15 of Set 6 | luderitz\n",
      "Processing Record 16 of Set 6 | pasuquin\n",
      "Processing Record 17 of Set 6 | karla\n",
      "Processing Record 18 of Set 6 | xining\n",
      "Processing Record 19 of Set 6 | barentsburg\n",
      "City not found. Skipping...\n",
      "Processing Record 19 of Set 6 | san quintin\n",
      "Processing Record 20 of Set 6 | tiksi\n",
      "Processing Record 21 of Set 6 | vytegra\n",
      "Processing Record 22 of Set 6 | borlange\n",
      "City not found. Skipping...\n",
      "Processing Record 22 of Set 6 | saint-philippe\n",
      "Processing Record 23 of Set 6 | kavieng\n",
      "Processing Record 24 of Set 6 | camana\n",
      "Processing Record 25 of Set 6 | lazarev\n",
      "Processing Record 26 of Set 6 | roma\n",
      "Processing Record 27 of Set 6 | krabi\n",
      "Processing Record 28 of Set 6 | yuncheng\n",
      "Processing Record 29 of Set 6 | kahului\n",
      "Processing Record 30 of Set 6 | brae\n",
      "Processing Record 31 of Set 6 | eyl\n",
      "Processing Record 32 of Set 6 | torbat-e jam\n",
      "Processing Record 33 of Set 6 | ust-tsilma\n",
      "Processing Record 34 of Set 6 | thinadhoo\n",
      "Processing Record 35 of Set 6 | sayyan\n",
      "Processing Record 36 of Set 6 | vaitupu\n",
      "City not found. Skipping...\n",
      "Processing Record 36 of Set 6 | sur\n",
      "Processing Record 37 of Set 6 | saposoa\n",
      "Processing Record 38 of Set 6 | ahuimanu\n",
      "Processing Record 39 of Set 6 | palabuhanratu\n",
      "City not found. Skipping...\n",
      "Processing Record 39 of Set 6 | te anau\n",
      "Processing Record 40 of Set 6 | gombong\n",
      "Processing Record 41 of Set 6 | umm lajj\n",
      "Processing Record 42 of Set 6 | narsaq\n",
      "Processing Record 43 of Set 6 | jahrom\n",
      "City not found. Skipping...\n",
      "Processing Record 43 of Set 6 | hamilton\n",
      "Processing Record 44 of Set 6 | reconquista\n",
      "Processing Record 45 of Set 6 | yar-sale\n",
      "Processing Record 46 of Set 6 | cuamba\n",
      "Processing Record 47 of Set 6 | erzin\n",
      "Processing Record 48 of Set 6 | lorengau\n",
      "Processing Record 49 of Set 6 | mount isa\n",
      "Processing Record 0 of Set 7 | melo\n",
      "Processing Record 1 of Set 7 | rio gallegos\n",
      "Processing Record 2 of Set 7 | yamada\n",
      "Processing Record 3 of Set 7 | baykit\n",
      "Processing Record 4 of Set 7 | vardo\n",
      "Processing Record 5 of Set 7 | saravan\n",
      "Processing Record 6 of Set 7 | mount gambier\n",
      "Processing Record 7 of Set 7 | corning\n",
      "Processing Record 8 of Set 7 | codrington\n",
      "Processing Record 9 of Set 7 | zhaotong\n",
      "Processing Record 10 of Set 7 | laguna\n",
      "Processing Record 11 of Set 7 | beaufort\n",
      "Processing Record 12 of Set 7 | huron\n",
      "Processing Record 13 of Set 7 | constitucion\n",
      "Processing Record 14 of Set 7 | nanortalik\n",
      "Processing Record 15 of Set 7 | novyy urengoy\n",
      "Processing Record 16 of Set 7 | guerrero negro\n",
      "Processing Record 17 of Set 7 | evensk\n",
      "Processing Record 18 of Set 7 | hayesville\n",
      "Processing Record 19 of Set 7 | manaus\n",
      "Processing Record 20 of Set 7 | beyneu\n",
      "Processing Record 21 of Set 7 | pevek\n",
      "Processing Record 22 of Set 7 | roebourne\n",
      "Processing Record 23 of Set 7 | kloulklubed\n",
      "Processing Record 24 of Set 7 | ludvika\n",
      "Processing Record 25 of Set 7 | geraldton\n",
      "Processing Record 26 of Set 7 | paamiut\n",
      "Processing Record 27 of Set 7 | sioux falls\n",
      "Processing Record 28 of Set 7 | chokurdakh\n",
      "Processing Record 29 of Set 7 | zhuanghe\n",
      "Processing Record 30 of Set 7 | bardstown\n",
      "Processing Record 31 of Set 7 | shelburne\n",
      "Processing Record 32 of Set 7 | tefe\n",
      "Processing Record 33 of Set 7 | shingu\n",
      "Processing Record 34 of Set 7 | laiagam\n",
      "City not found. Skipping...\n",
      "Processing Record 34 of Set 7 | olafsvik\n",
      "Processing Record 35 of Set 7 | east london\n",
      "Processing Record 36 of Set 7 | yankton\n",
      "Processing Record 37 of Set 7 | rio verde de mato grosso\n",
      "Processing Record 38 of Set 7 | goundi\n",
      "Processing Record 39 of Set 7 | longlac\n",
      "City not found. Skipping...\n",
      "Processing Record 39 of Set 7 | saleaula\n",
      "City not found. Skipping...\n",
      "Processing Record 39 of Set 7 | ancud\n",
      "Processing Record 40 of Set 7 | jingdezhen\n",
      "Processing Record 41 of Set 7 | kerman\n",
      "Processing Record 42 of Set 7 | airai\n",
      "Processing Record 43 of Set 7 | kpagouda\n",
      "City not found. Skipping...\n",
      "Processing Record 43 of Set 7 | amot\n",
      "Processing Record 44 of Set 7 | lamar\n",
      "Processing Record 45 of Set 7 | takaungu\n",
      "Processing Record 46 of Set 7 | pisco\n",
      "Processing Record 47 of Set 7 | praya\n",
      "Processing Record 48 of Set 7 | bathurst\n",
      "Processing Record 49 of Set 7 | xihe\n",
      "Processing Record 0 of Set 8 | caraballeda\n",
      "Processing Record 1 of Set 8 | srednekolymsk\n",
      "Processing Record 2 of Set 8 | abalak\n",
      "Processing Record 3 of Set 8 | raglan\n",
      "Processing Record 4 of Set 8 | ranot\n",
      "Processing Record 5 of Set 8 | rostovka\n",
      "Processing Record 6 of Set 8 | hadsund\n",
      "Processing Record 7 of Set 8 | luebo\n",
      "Processing Record 8 of Set 8 | svetlaya\n",
      "Processing Record 9 of Set 8 | say\n",
      "Processing Record 10 of Set 8 | ossora\n",
      "Processing Record 11 of Set 8 | toliary\n",
      "City not found. Skipping...\n",
      "Processing Record 11 of Set 8 | souillac\n",
      "Processing Record 12 of Set 8 | bandarbeyla\n",
      "Processing Record 13 of Set 8 | vanimo\n",
      "Processing Record 14 of Set 8 | jutai\n",
      "Processing Record 15 of Set 8 | razole\n",
      "Processing Record 16 of Set 8 | santo tomas\n",
      "Processing Record 17 of Set 8 | batangafo\n",
      "Processing Record 18 of Set 8 | safaga\n",
      "Processing Record 19 of Set 8 | oktyabrskoye\n",
      "Processing Record 20 of Set 8 | kantang\n",
      "Processing Record 21 of Set 8 | yumen\n",
      "Processing Record 22 of Set 8 | kharan\n",
      "Processing Record 23 of Set 8 | mariel\n",
      "Processing Record 24 of Set 8 | preobrazheniye\n",
      "Processing Record 25 of Set 8 | krasnovishersk\n",
      "Processing Record 26 of Set 8 | dangriga\n",
      "Processing Record 27 of Set 8 | bambous virieux\n",
      "Processing Record 28 of Set 8 | mahanje\n",
      "Processing Record 29 of Set 8 | nola\n",
      "Processing Record 30 of Set 8 | vaitape\n",
      "Processing Record 31 of Set 8 | wa\n",
      "City not found. Skipping...\n",
      "Processing Record 31 of Set 8 | avera\n",
      "Processing Record 32 of Set 8 | repatriacion\n",
      "Processing Record 33 of Set 8 | bloemhof\n",
      "Processing Record 34 of Set 8 | yanan\n",
      "City not found. Skipping...\n",
      "Processing Record 34 of Set 8 | asau\n",
      "Processing Record 35 of Set 8 | saint-pierre\n",
      "Processing Record 36 of Set 8 | irbil\n",
      "Processing Record 37 of Set 8 | anahuac\n",
      "Processing Record 38 of Set 8 | port-de-paix\n",
      "City not found. Skipping...\n",
      "Processing Record 38 of Set 8 | quatre cocos\n",
      "Processing Record 39 of Set 8 | majene\n",
      "Processing Record 40 of Set 8 | zavodoukovsk\n",
      "Processing Record 41 of Set 8 | srandakan\n",
      "Processing Record 42 of Set 8 | ushtobe\n",
      "Processing Record 43 of Set 8 | shahreza\n",
      "Processing Record 44 of Set 8 | la palma\n",
      "Processing Record 45 of Set 8 | cherskiy\n",
      "Processing Record 46 of Set 8 | spirit river\n",
      "Processing Record 47 of Set 8 | attawapiskat\n",
      "City not found. Skipping...\n",
      "Processing Record 47 of Set 8 | mys shmidta\n",
      "City not found. Skipping...\n",
      "Processing Record 47 of Set 8 | zaria\n",
      "Processing Record 48 of Set 8 | lempaala\n",
      "Processing Record 49 of Set 8 | iracoubo\n",
      "Processing Record 0 of Set 9 | bathsheba\n",
      "Processing Record 1 of Set 9 | grand gaube\n",
      "Processing Record 2 of Set 9 | lincoln\n",
      "Processing Record 3 of Set 9 | sharjah\n",
      "Processing Record 4 of Set 9 | maumere\n",
      "Processing Record 5 of Set 9 | osa\n",
      "Processing Record 6 of Set 9 | aklavik\n",
      "Processing Record 7 of Set 9 | necochea\n",
      "Processing Record 8 of Set 9 | new richmond\n",
      "Processing Record 9 of Set 9 | ipameri\n",
      "Processing Record 10 of Set 9 | kirakira\n",
      "Processing Record 11 of Set 9 | seoul\n",
      "Processing Record 12 of Set 9 | ayr\n",
      "Processing Record 13 of Set 9 | ulladulla\n",
      "Processing Record 14 of Set 9 | tolaga bay\n",
      "Processing Record 15 of Set 9 | pizarro\n",
      "Processing Record 16 of Set 9 | bengkulu\n",
      "Processing Record 17 of Set 9 | kez\n",
      "Processing Record 18 of Set 9 | corinto\n",
      "Processing Record 19 of Set 9 | auki\n",
      "Processing Record 20 of Set 9 | ngukurr\n",
      "City not found. Skipping...\n",
      "Processing Record 20 of Set 9 | tezu\n",
      "Processing Record 21 of Set 9 | samalaeulu\n",
      "City not found. Skipping...\n",
      "Processing Record 21 of Set 9 | namibe\n",
      "Processing Record 22 of Set 9 | tashtyp\n",
      "Processing Record 23 of Set 9 | cairns\n",
      "Processing Record 24 of Set 9 | konstantinovka\n",
      "Processing Record 25 of Set 9 | shira\n",
      "Processing Record 26 of Set 9 | siniscola\n",
      "Processing Record 27 of Set 9 | rosarito\n",
      "Processing Record 28 of Set 9 | iisalmi\n",
      "Processing Record 29 of Set 9 | lixourion\n",
      "Processing Record 30 of Set 9 | batouri\n",
      "Processing Record 31 of Set 9 | vao\n",
      "Processing Record 32 of Set 9 | chapais\n",
      "Processing Record 33 of Set 9 | vestbygda\n",
      "City not found. Skipping...\n",
      "Processing Record 33 of Set 9 | karratha\n",
      "Processing Record 34 of Set 9 | stornoway\n",
      "Processing Record 35 of Set 9 | fitii\n",
      "Processing Record 36 of Set 9 | canarana\n",
      "Processing Record 37 of Set 9 | ahipara\n",
      "Processing Record 38 of Set 9 | malegaon\n",
      "Processing Record 39 of Set 9 | foumbot\n",
      "Processing Record 40 of Set 9 | sinkat\n",
      "City not found. Skipping...\n",
      "Processing Record 40 of Set 9 | gat\n",
      "Processing Record 41 of Set 9 | acoua\n",
      "Processing Record 42 of Set 9 | batemans bay\n",
      "Processing Record 43 of Set 9 | sterling\n",
      "Processing Record 44 of Set 9 | pyu\n",
      "Processing Record 45 of Set 9 | tostamaa\n",
      "City not found. Skipping...\n",
      "Processing Record 45 of Set 9 | chicama\n",
      "Processing Record 46 of Set 9 | bilibino\n",
      "Processing Record 47 of Set 9 | acari\n",
      "Processing Record 48 of Set 9 | bograd\n",
      "Processing Record 49 of Set 9 | kota tinggi\n",
      "Processing Record 0 of Set 10 | adrar\n",
      "Processing Record 1 of Set 10 | eagle pass\n",
      "Processing Record 2 of Set 10 | batagay-alyta\n",
      "Processing Record 3 of Set 10 | talcahuano\n",
      "Processing Record 4 of Set 10 | dourbali\n",
      "Processing Record 5 of Set 10 | dunedin\n",
      "Processing Record 6 of Set 10 | bocas del toro\n",
      "Processing Record 7 of Set 10 | wahran\n",
      "City not found. Skipping...\n",
      "Processing Record 7 of Set 10 | qasigiannguit\n",
      "Processing Record 8 of Set 10 | gunnedah\n",
      "Processing Record 9 of Set 10 | djibo\n",
      "Processing Record 10 of Set 10 | zapolyarnyy\n",
      "Processing Record 11 of Set 10 | kanniyakumari\n",
      "Processing Record 12 of Set 10 | nosy varika\n",
      "Processing Record 13 of Set 10 | makokou\n",
      "Processing Record 14 of Set 10 | kismayo\n",
      "Processing Record 15 of Set 10 | genc\n",
      "Processing Record 16 of Set 10 | fuxin\n",
      "Processing Record 17 of Set 10 | hami\n",
      "Processing Record 18 of Set 10 | petropavlovsk-kamchatskiy\n",
      "Processing Record 19 of Set 10 | kharp\n",
      "Processing Record 20 of Set 10 | leshukonskoye\n",
      "Processing Record 21 of Set 10 | manicore\n",
      "Processing Record 22 of Set 10 | megion\n",
      "Processing Record 23 of Set 10 | aasiaat\n",
      "Processing Record 24 of Set 10 | chimore\n",
      "Processing Record 25 of Set 10 | mocambique\n",
      "City not found. Skipping...\n",
      "Processing Record 25 of Set 10 | muhos\n",
      "Processing Record 26 of Set 10 | koulamoutou\n",
      "Processing Record 27 of Set 10 | swabi\n",
      "Processing Record 28 of Set 10 | coahuayana\n",
      "Processing Record 29 of Set 10 | olinda\n",
      "Processing Record 30 of Set 10 | prince rupert\n",
      "Processing Record 31 of Set 10 | dosso\n",
      "Processing Record 32 of Set 10 | urdoma\n",
      "Processing Record 33 of Set 10 | bonthe\n",
      "Processing Record 34 of Set 10 | betong\n",
      "Processing Record 35 of Set 10 | coruripe\n",
      "Processing Record 36 of Set 10 | lardos\n",
      "Processing Record 37 of Set 10 | kathu\n",
      "Processing Record 38 of Set 10 | humaita\n",
      "Processing Record 39 of Set 10 | beloha\n",
      "Processing Record 40 of Set 10 | azanka\n",
      "Processing Record 41 of Set 10 | ukiah\n",
      "Processing Record 42 of Set 10 | tabialan\n",
      "City not found. Skipping...\n",
      "Processing Record 42 of Set 10 | taltal\n",
      "Processing Record 43 of Set 10 | hervey bay\n",
      "Processing Record 44 of Set 10 | guatire\n",
      "Processing Record 45 of Set 10 | san cristobal\n",
      "Processing Record 46 of Set 10 | popondetta\n",
      "Processing Record 47 of Set 10 | mufulira\n",
      "Processing Record 48 of Set 10 | shu\n",
      "Processing Record 49 of Set 10 | ewa beach\n",
      "Processing Record 0 of Set 11 | qui nhon\n",
      "Processing Record 1 of Set 11 | matagami\n",
      "Processing Record 2 of Set 11 | oranjestad\n",
      "Processing Record 3 of Set 11 | turtas\n",
      "Processing Record 4 of Set 11 | erzincan\n",
      "Processing Record 5 of Set 11 | enshi\n",
      "Processing Record 6 of Set 11 | talaya\n",
      "Processing Record 7 of Set 11 | jalu\n",
      "Processing Record 8 of Set 11 | camargo\n",
      "Processing Record 9 of Set 11 | havre-saint-pierre\n",
      "Processing Record 10 of Set 11 | chegem\n",
      "Processing Record 11 of Set 11 | kilmez\n",
      "City not found. Skipping...\n",
      "Processing Record 11 of Set 11 | waipawa\n",
      "Processing Record 12 of Set 11 | nassau\n",
      "Processing Record 13 of Set 11 | nishihara\n",
      "Processing Record 14 of Set 11 | georgiyevskoye\n",
      "Processing Record 15 of Set 11 | vikhorevka\n",
      "Processing Record 16 of Set 11 | kununurra\n",
      "Processing Record 17 of Set 11 | margate\n",
      "Processing Record 18 of Set 11 | vostok\n",
      "Processing Record 19 of Set 11 | san-pedro\n",
      "Processing Record 20 of Set 11 | kamien pomorski\n",
      "Processing Record 21 of Set 11 | brasilia de minas\n",
      "Processing Record 22 of Set 11 | novominskaya\n",
      "Processing Record 23 of Set 11 | mechetinskaya\n",
      "Processing Record 24 of Set 11 | jorpeland\n",
      "Processing Record 25 of Set 11 | abu dhabi\n",
      "Processing Record 26 of Set 11 | tanhacu\n",
      "Processing Record 27 of Set 11 | dingle\n",
      "Processing Record 28 of Set 11 | gumdag\n",
      "Processing Record 29 of Set 11 | whitehorse\n",
      "Processing Record 30 of Set 11 | ban dung\n",
      "Processing Record 31 of Set 11 | qaqortoq\n",
      "Processing Record 32 of Set 11 | mont-dore\n",
      "Processing Record 33 of Set 11 | collie\n",
      "Processing Record 34 of Set 11 | kieta\n",
      "Processing Record 35 of Set 11 | borogontsy\n",
      "Processing Record 36 of Set 11 | viedma\n",
      "Processing Record 37 of Set 11 | ndioum\n",
      "Processing Record 38 of Set 11 | kalmunai\n",
      "Processing Record 39 of Set 11 | boyolangu\n",
      "Processing Record 40 of Set 11 | rocha\n",
      "Processing Record 41 of Set 11 | khani\n",
      "Processing Record 42 of Set 11 | kadykchan\n",
      "City not found. Skipping...\n",
      "Processing Record 42 of Set 11 | pundaguitan\n",
      "Processing Record 43 of Set 11 | ribas do rio pardo\n",
      "Processing Record 44 of Set 11 | kidal\n",
      "Processing Record 45 of Set 11 | lundazi\n",
      "Processing Record 46 of Set 11 | chipinge\n",
      "Processing Record 47 of Set 11 | waingapu\n",
      "Processing Record 48 of Set 11 | vila\n",
      "Processing Record 49 of Set 11 | el seibo\n",
      "Processing Record 0 of Set 12 | nantucket\n",
      "Processing Record 1 of Set 12 | kungurtug\n",
      "Processing Record 2 of Set 12 | garowe\n",
      "Processing Record 3 of Set 12 | kegayli\n",
      "City not found. Skipping...\n",
      "Processing Record 3 of Set 12 | miyako\n",
      "Processing Record 4 of Set 12 | skalistyy\n",
      "City not found. Skipping...\n",
      "Processing Record 4 of Set 12 | sarab\n",
      "Processing Record 5 of Set 12 | gushikawa\n",
      "Processing Record 6 of Set 12 | alexandria\n",
      "Processing Record 7 of Set 12 | virginia beach\n",
      "Processing Record 8 of Set 12 | acarau\n",
      "Processing Record 9 of Set 12 | akdepe\n",
      "Processing Record 10 of Set 12 | carrboro\n",
      "Processing Record 11 of Set 12 | tuatapere\n",
      "Processing Record 12 of Set 12 | hokitika\n",
      "Processing Record 13 of Set 12 | north bend\n",
      "Processing Record 14 of Set 12 | ternate\n",
      "Processing Record 15 of Set 12 | pionerskiy\n",
      "Processing Record 16 of Set 12 | ketchikan\n",
      "-----------------------------\n",
      "Data Retrieval Complete\n",
      "-----------------------------\n"
     ]
    }
   ],
   "source": [
    "#set up empty lists to hold weather info\n",
    "name = []\n",
    "lat = []\n",
    "lon = []\n",
    "max_temp = []\n",
    "humidity = []\n",
    "cloudiness = []\n",
    "wind_speed = []\n",
    "country = []\n",
    "date = []\n",
    "city_num = 0\n",
    "set_num = 1\n",
    "\n",
    "print(\"Beginning Data Retrieval\")     \n",
    "print(\"-----------------------------\")\n",
    "\n",
    "# Loop through the list of cities and perform a request for data on each\n",
    "for city in cities:\n",
    "    url = \"http://api.openweathermap.org/data/2.5/weather?\"\n",
    "    units = \"imperial\"\n",
    "\n",
    "    # partial query URL\n",
    "    query_url = f\"{url}appid={weather_api_key}&units={units}&q=\"\n",
    "    \n",
    "    try:\n",
    "        print(f\"Processing Record {city_num} of Set {set_num} | {city}\")\n",
    "        \n",
    "        response = requests.get(query_url + city).json()\n",
    "        \n",
    "        #add weather data for city into lists\n",
    "        lat.append(response['coord']['lat'])\n",
    "        lon.append(response['coord']['lon'])\n",
    "        max_temp.append(response['main']['temp'])\n",
    "        humidity.append(response['main']['humidity'])\n",
    "        cloudiness.append(response['clouds']['all'])\n",
    "        wind_speed.append(response['wind']['speed'])\n",
    "        country.append(response['sys']['country'])\n",
    "        date.append(response['dt'])\n",
    "        name.append(response['name'])\n",
    "        \n",
    "        if city_num == 49:\n",
    "            #reset record number to 0\n",
    "            city_num = 0\n",
    "            #increase set number by 1\n",
    "            set_num += 1\n",
    "        else:\n",
    "            #increase record number by 1            \n",
    "            city_num += 1\n",
    "            \n",
    "    except:\n",
    "        print(f\"City not found. Skipping...\")\n",
    "        \n",
    "print(\"-----------------------------\")\n",
    "print(\"Data Retrieval Complete\")      \n",
    "print(\"-----------------------------\")"
   ]
  },
  {
   "cell_type": "code",
   "execution_count": null,
   "metadata": {},
   "outputs": [],
   "source": []
  },
  {
   "cell_type": "markdown",
   "metadata": {},
   "source": [
    "### Convert Raw Data to DataFrame\n",
    "* Export the city data into a .csv.\n",
    "* Display the DataFrame"
   ]
  },
  {
   "cell_type": "code",
   "execution_count": 4,
   "metadata": {},
   "outputs": [
    {
     "data": {
      "text/html": [
       "<div>\n",
       "<style scoped>\n",
       "    .dataframe tbody tr th:only-of-type {\n",
       "        vertical-align: middle;\n",
       "    }\n",
       "\n",
       "    .dataframe tbody tr th {\n",
       "        vertical-align: top;\n",
       "    }\n",
       "\n",
       "    .dataframe thead th {\n",
       "        text-align: right;\n",
       "    }\n",
       "</style>\n",
       "<table border=\"1\" class=\"dataframe\">\n",
       "  <thead>\n",
       "    <tr style=\"text-align: right;\">\n",
       "      <th></th>\n",
       "      <th>City</th>\n",
       "      <th>Lat</th>\n",
       "      <th>Lng</th>\n",
       "      <th>Max Temp</th>\n",
       "      <th>Humidity</th>\n",
       "      <th>Cloudiness</th>\n",
       "      <th>Wind Speed</th>\n",
       "      <th>Country</th>\n",
       "      <th>Date</th>\n",
       "    </tr>\n",
       "  </thead>\n",
       "  <tbody>\n",
       "    <tr>\n",
       "      <th>0</th>\n",
       "      <td>Eydhafushi</td>\n",
       "      <td>5.1033</td>\n",
       "      <td>73.0708</td>\n",
       "      <td>82.56</td>\n",
       "      <td>77</td>\n",
       "      <td>59</td>\n",
       "      <td>15.32</td>\n",
       "      <td>MV</td>\n",
       "      <td>1654194386</td>\n",
       "    </tr>\n",
       "    <tr>\n",
       "      <th>1</th>\n",
       "      <td>Jiazi</td>\n",
       "      <td>22.8779</td>\n",
       "      <td>116.0670</td>\n",
       "      <td>79.68</td>\n",
       "      <td>90</td>\n",
       "      <td>96</td>\n",
       "      <td>8.48</td>\n",
       "      <td>CN</td>\n",
       "      <td>1654194386</td>\n",
       "    </tr>\n",
       "    <tr>\n",
       "      <th>2</th>\n",
       "      <td>Alice Springs</td>\n",
       "      <td>-23.7000</td>\n",
       "      <td>133.8833</td>\n",
       "      <td>60.35</td>\n",
       "      <td>94</td>\n",
       "      <td>100</td>\n",
       "      <td>5.75</td>\n",
       "      <td>AU</td>\n",
       "      <td>1654194133</td>\n",
       "    </tr>\n",
       "    <tr>\n",
       "      <th>3</th>\n",
       "      <td>Hambantota</td>\n",
       "      <td>6.1241</td>\n",
       "      <td>81.1185</td>\n",
       "      <td>79.14</td>\n",
       "      <td>100</td>\n",
       "      <td>40</td>\n",
       "      <td>6.91</td>\n",
       "      <td>LK</td>\n",
       "      <td>1654194387</td>\n",
       "    </tr>\n",
       "    <tr>\n",
       "      <th>4</th>\n",
       "      <td>George Town</td>\n",
       "      <td>5.4112</td>\n",
       "      <td>100.3354</td>\n",
       "      <td>80.65</td>\n",
       "      <td>88</td>\n",
       "      <td>20</td>\n",
       "      <td>0.00</td>\n",
       "      <td>MY</td>\n",
       "      <td>1654194180</td>\n",
       "    </tr>\n",
       "  </tbody>\n",
       "</table>\n",
       "</div>"
      ],
      "text/plain": [
       "            City      Lat       Lng  Max Temp  Humidity  Cloudiness  \\\n",
       "0     Eydhafushi   5.1033   73.0708     82.56        77          59   \n",
       "1          Jiazi  22.8779  116.0670     79.68        90          96   \n",
       "2  Alice Springs -23.7000  133.8833     60.35        94         100   \n",
       "3     Hambantota   6.1241   81.1185     79.14       100          40   \n",
       "4    George Town   5.4112  100.3354     80.65        88          20   \n",
       "\n",
       "   Wind Speed Country        Date  \n",
       "0       15.32      MV  1654194386  \n",
       "1        8.48      CN  1654194386  \n",
       "2        5.75      AU  1654194133  \n",
       "3        6.91      LK  1654194387  \n",
       "4        0.00      MY  1654194180  "
      ]
     },
     "execution_count": 4,
     "metadata": {},
     "output_type": "execute_result"
    }
   ],
   "source": [
    "#combine city and weather data into dictionary\n",
    "cities_dict = {\n",
    "    \"City\": name,\n",
    "    \"Lat\": lat,\n",
    "    \"Lng\": lon,\n",
    "    \"Max Temp\": max_temp,\n",
    "    \"Humidity\": humidity,\n",
    "    \"Cloudiness\": cloudiness,\n",
    "    \"Wind Speed\": wind_speed,\n",
    "    \"Country\": country,\n",
    "    \"Date\": date,\n",
    "}\n",
    "#create df\n",
    "cities_df = pd.DataFrame(cities_dict)\n",
    "cities_df.head()"
   ]
  },
  {
   "cell_type": "code",
   "execution_count": 24,
   "metadata": {},
   "outputs": [],
   "source": [
    "#save df to csv\n",
    "cities_df.to_csv(\"output_data/cities_weather_output.csv\")"
   ]
  },
  {
   "cell_type": "code",
   "execution_count": 25,
   "metadata": {},
   "outputs": [
    {
     "data": {
      "text/html": [
       "<div>\n",
       "<style scoped>\n",
       "    .dataframe tbody tr th:only-of-type {\n",
       "        vertical-align: middle;\n",
       "    }\n",
       "\n",
       "    .dataframe tbody tr th {\n",
       "        vertical-align: top;\n",
       "    }\n",
       "\n",
       "    .dataframe thead th {\n",
       "        text-align: right;\n",
       "    }\n",
       "</style>\n",
       "<table border=\"1\" class=\"dataframe\">\n",
       "  <thead>\n",
       "    <tr style=\"text-align: right;\">\n",
       "      <th></th>\n",
       "      <th>Lat</th>\n",
       "      <th>Lng</th>\n",
       "      <th>Max Temp</th>\n",
       "      <th>Humidity</th>\n",
       "      <th>Cloudiness</th>\n",
       "      <th>Wind Speed</th>\n",
       "      <th>Date</th>\n",
       "    </tr>\n",
       "  </thead>\n",
       "  <tbody>\n",
       "    <tr>\n",
       "      <th>count</th>\n",
       "      <td>567.000000</td>\n",
       "      <td>567.000000</td>\n",
       "      <td>567.000000</td>\n",
       "      <td>567.000000</td>\n",
       "      <td>567.000000</td>\n",
       "      <td>567.000000</td>\n",
       "      <td>5.670000e+02</td>\n",
       "    </tr>\n",
       "    <tr>\n",
       "      <th>mean</th>\n",
       "      <td>19.923002</td>\n",
       "      <td>20.943911</td>\n",
       "      <td>66.803527</td>\n",
       "      <td>68.275132</td>\n",
       "      <td>56.082892</td>\n",
       "      <td>7.963862</td>\n",
       "      <td>1.654194e+09</td>\n",
       "    </tr>\n",
       "    <tr>\n",
       "      <th>std</th>\n",
       "      <td>33.536941</td>\n",
       "      <td>90.855195</td>\n",
       "      <td>16.566342</td>\n",
       "      <td>22.209772</td>\n",
       "      <td>36.500716</td>\n",
       "      <td>5.144640</td>\n",
       "      <td>9.009464e+01</td>\n",
       "    </tr>\n",
       "    <tr>\n",
       "      <th>min</th>\n",
       "      <td>-54.800000</td>\n",
       "      <td>-175.200000</td>\n",
       "      <td>24.820000</td>\n",
       "      <td>5.000000</td>\n",
       "      <td>0.000000</td>\n",
       "      <td>0.000000</td>\n",
       "      <td>1.654194e+09</td>\n",
       "    </tr>\n",
       "    <tr>\n",
       "      <th>25%</th>\n",
       "      <td>-8.063500</td>\n",
       "      <td>-60.966800</td>\n",
       "      <td>53.500000</td>\n",
       "      <td>55.500000</td>\n",
       "      <td>20.000000</td>\n",
       "      <td>4.460000</td>\n",
       "      <td>1.654194e+09</td>\n",
       "    </tr>\n",
       "    <tr>\n",
       "      <th>50%</th>\n",
       "      <td>24.687700</td>\n",
       "      <td>27.911600</td>\n",
       "      <td>69.100000</td>\n",
       "      <td>73.000000</td>\n",
       "      <td>64.000000</td>\n",
       "      <td>7.050000</td>\n",
       "      <td>1.654194e+09</td>\n",
       "    </tr>\n",
       "    <tr>\n",
       "      <th>75%</th>\n",
       "      <td>47.060650</td>\n",
       "      <td>102.016100</td>\n",
       "      <td>79.025000</td>\n",
       "      <td>85.000000</td>\n",
       "      <td>92.000000</td>\n",
       "      <td>10.320000</td>\n",
       "      <td>1.654195e+09</td>\n",
       "    </tr>\n",
       "    <tr>\n",
       "      <th>max</th>\n",
       "      <td>78.218600</td>\n",
       "      <td>179.316700</td>\n",
       "      <td>108.810000</td>\n",
       "      <td>100.000000</td>\n",
       "      <td>100.000000</td>\n",
       "      <td>30.560000</td>\n",
       "      <td>1.654195e+09</td>\n",
       "    </tr>\n",
       "  </tbody>\n",
       "</table>\n",
       "</div>"
      ],
      "text/plain": [
       "              Lat         Lng    Max Temp    Humidity  Cloudiness  Wind Speed  \\\n",
       "count  567.000000  567.000000  567.000000  567.000000  567.000000  567.000000   \n",
       "mean    19.923002   20.943911   66.803527   68.275132   56.082892    7.963862   \n",
       "std     33.536941   90.855195   16.566342   22.209772   36.500716    5.144640   \n",
       "min    -54.800000 -175.200000   24.820000    5.000000    0.000000    0.000000   \n",
       "25%     -8.063500  -60.966800   53.500000   55.500000   20.000000    4.460000   \n",
       "50%     24.687700   27.911600   69.100000   73.000000   64.000000    7.050000   \n",
       "75%     47.060650  102.016100   79.025000   85.000000   92.000000   10.320000   \n",
       "max     78.218600  179.316700  108.810000  100.000000  100.000000   30.560000   \n",
       "\n",
       "               Date  \n",
       "count  5.670000e+02  \n",
       "mean   1.654194e+09  \n",
       "std    9.009464e+01  \n",
       "min    1.654194e+09  \n",
       "25%    1.654194e+09  \n",
       "50%    1.654194e+09  \n",
       "75%    1.654195e+09  \n",
       "max    1.654195e+09  "
      ]
     },
     "execution_count": 25,
     "metadata": {},
     "output_type": "execute_result"
    }
   ],
   "source": [
    "#create summary table\n",
    "cities_sum_df = cities_df[[\"Lat\", \"Lng\", \"Max Temp\", \"Humidity\", \"Cloudiness\", \"Wind Speed\", \"Date\"]].describe()\n",
    "cities_sum_df"
   ]
  },
  {
   "cell_type": "code",
   "execution_count": null,
   "metadata": {},
   "outputs": [],
   "source": []
  },
  {
   "cell_type": "markdown",
   "metadata": {},
   "source": [
    "## Inspect the data and remove the cities where the humidity > 100%.\n",
    "----\n",
    "Skip this step if there are no cities that have humidity > 100%. "
   ]
  },
  {
   "cell_type": "code",
   "execution_count": 26,
   "metadata": {},
   "outputs": [],
   "source": [
    "#max humidity in cities df is 100, \n",
    "#so there are no cities with > 100% humidity that need to be removed from the df"
   ]
  },
  {
   "cell_type": "code",
   "execution_count": 27,
   "metadata": {},
   "outputs": [
    {
     "data": {
      "text/plain": [
       "Int64Index([], dtype='int64')"
      ]
     },
     "execution_count": 27,
     "metadata": {},
     "output_type": "execute_result"
    }
   ],
   "source": [
    "#  Get the indices of cities that have humidity over 100%.\n",
    "cities_df.loc[cities_df[\"Humidity\"] > 100].index"
   ]
  },
  {
   "cell_type": "code",
   "execution_count": 28,
   "metadata": {},
   "outputs": [],
   "source": [
    "# Make a new DataFrame equal to the city data to drop all humidity outliers by index.\n",
    "# Passing \"inplace=False\" will make a copy of the city_data DataFrame, which we call \"clean_city_data\".\n",
    "\n",
    "#skipping since there are no outliers/cities with humidity over 100%"
   ]
  },
  {
   "cell_type": "code",
   "execution_count": null,
   "metadata": {},
   "outputs": [],
   "source": []
  },
  {
   "cell_type": "markdown",
   "metadata": {},
   "source": [
    "## Plotting the Data\n",
    "* Use proper labeling of the plots using plot titles (including date of analysis) and axes labels.\n",
    "* Save the plotted figures as .pngs."
   ]
  },
  {
   "cell_type": "markdown",
   "metadata": {},
   "source": [
    "## Latitude vs. Temperature Plot"
   ]
  },
  {
   "cell_type": "code",
   "execution_count": 39,
   "metadata": {},
   "outputs": [
    {
     "data": {
      "image/png": "[encoded data removed]",
      "text/plain": [
       "<Figure size 432x288 with 1 Axes>"
      ]
     },
     "metadata": {
      "needs_background": "light"
     },
     "output_type": "display_data"
    },
    {
     "data": {
      "text/plain": [
       "<Figure size 432x288 with 0 Axes>"
      ]
     },
     "metadata": {},
     "output_type": "display_data"
    }
   ],
   "source": [
    "plt.scatter(cities_df['Lat'],cities_df['Max Temp'], edgecolors='black')\n",
    "plt.title(\"City Latitude vs. Max Temperature (6/2/2022)\")\n",
    "#setting x axis limits to be +-5 from the min and max latitude\n",
    "plt.xlim([cities_sum_df.iloc[3,0]-5, cities_sum_df.iloc[7,0]+5])\n",
    "plt.xlabel(\"Latitude\")\n",
    "#setting y axis limits to be +-5 from the min and max max temp\n",
    "plt.ylim([cities_sum_df.iloc[3,2]-5, cities_sum_df.iloc[7,2]+5])\n",
    "plt.ylabel(\"Max Temperature (F)\")\n",
    "plt.grid()\n",
    "plt.show()\n",
    "\n",
    "#save as png\n",
    "plt.savefig(\"output_data/lat_temp_plot.png\")"
   ]
  },
  {
   "cell_type": "code",
   "execution_count": 40,
   "metadata": {},
   "outputs": [],
   "source": [
    "#add a sentence or two explaining what the code is analyzing\n"
   ]
  },
  {
   "cell_type": "code",
   "execution_count": null,
   "metadata": {},
   "outputs": [],
   "source": []
  },
  {
   "cell_type": "markdown",
   "metadata": {},
   "source": [
    "## Latitude vs. Humidity Plot"
   ]
  },
  {
   "cell_type": "code",
   "execution_count": 41,
   "metadata": {},
   "outputs": [
    {
     "data": {
      "image/png": "[encoded data removed]",
      "text/plain": [
       "<Figure size 432x288 with 1 Axes>"
      ]
     },
     "metadata": {
      "needs_background": "light"
     },
     "output_type": "display_data"
    },
    {
     "data": {
      "text/plain": [
       "<Figure size 432x288 with 0 Axes>"
      ]
     },
     "metadata": {},
     "output_type": "display_data"
    }
   ],
   "source": [
    "plt.scatter(cities_df['Lat'],cities_df['Humidity'], edgecolors='black')\n",
    "plt.title(\"City Latitude vs. Humidity (6/2/2022)\")\n",
    "#setting x axis limits to be +-5 from the min and max latitude\n",
    "plt.xlim([cities_sum_df.iloc[3,0]-5, cities_sum_df.iloc[7,0]+5])\n",
    "plt.xlabel(\"Latitude\")\n",
    "#setting y axis limits to be +-5 from the min and max humidity\n",
    "plt.ylim([cities_sum_df.iloc[3,3]-5, cities_sum_df.iloc[7,3]+5])\n",
    "plt.ylabel(\"Humidity (%)\")\n",
    "plt.grid()\n",
    "plt.show()\n",
    "\n",
    "#save as png\n",
    "plt.savefig(\"output_data/lat_humidity_plot.png\")"
   ]
  },
  {
   "cell_type": "code",
   "execution_count": 42,
   "metadata": {},
   "outputs": [],
   "source": [
    "#add a sentence or two explaining what the code is analyzing\n"
   ]
  },
  {
   "cell_type": "code",
   "execution_count": null,
   "metadata": {},
   "outputs": [],
   "source": []
  },
  {
   "cell_type": "markdown",
   "metadata": {},
   "source": [
    "## Latitude vs. Cloudiness Plot"
   ]
  },
  {
   "cell_type": "code",
   "execution_count": 43,
   "metadata": {},
   "outputs": [
    {
     "data": {
      "image/png": "[encoded data removed]",
      "text/plain": [
       "<Figure size 432x288 with 1 Axes>"
      ]
     },
     "metadata": {
      "needs_background": "light"
     },
     "output_type": "display_data"
    },
    {
     "data": {
      "text/plain": [
       "<Figure size 432x288 with 0 Axes>"
      ]
     },
     "metadata": {},
     "output_type": "display_data"
    }
   ],
   "source": [
    "plt.scatter(cities_df['Lat'],cities_df['Cloudiness'], edgecolors='black')\n",
    "plt.title(\"City Latitude vs. Cloudiness (6/2/2022)\")\n",
    "#setting x axis limits to be +-5 from the min and max latitude\n",
    "plt.xlim([cities_sum_df.iloc[3,0]-5, cities_sum_df.iloc[7,0]+5])\n",
    "plt.xlabel(\"Latitude\")\n",
    "#setting y axis limits to be +-5 from the min and max cloudiness\n",
    "plt.ylim([cities_sum_df.iloc[3,4]-5, cities_sum_df.iloc[7,4]+5])\n",
    "plt.ylabel(\"Cloudiness (%)\")\n",
    "plt.grid()\n",
    "plt.show()\n",
    "\n",
    "#save as png\n",
    "plt.savefig(\"output_data/lat_cloudiness_plot.png\")"
   ]
  },
  {
   "cell_type": "code",
   "execution_count": 44,
   "metadata": {},
   "outputs": [],
   "source": [
    "#add a sentence or two explaining what the code is analyzing\n"
   ]
  },
  {
   "cell_type": "code",
   "execution_count": null,
   "metadata": {},
   "outputs": [],
   "source": []
  },
  {
   "cell_type": "markdown",
   "metadata": {},
   "source": [
    "## Latitude vs. Wind Speed Plot"
   ]
  },
  {
   "cell_type": "code",
   "execution_count": 45,
   "metadata": {},
   "outputs": [
    {
     "data": {
      "image/png": "[encoded data removed]",
      "text/plain": [
       "<Figure size 432x288 with 1 Axes>"
      ]
     },
     "metadata": {
      "needs_background": "light"
     },
     "output_type": "display_data"
    },
    {
     "data": {
      "text/plain": [
       "<Figure size 432x288 with 0 Axes>"
      ]
     },
     "metadata": {},
     "output_type": "display_data"
    }
   ],
   "source": [
    "plt.scatter(cities_df['Lat'],cities_df['Wind Speed'], edgecolors='black')\n",
    "plt.title(\"City Latitude vs. Wind Speed (6/2/2022)\")\n",
    "#setting x axis limits to be +-5 from the min and max latitude\n",
    "plt.xlim([cities_sum_df.iloc[3,0]-5, cities_sum_df.iloc[7,0]+5])\n",
    "plt.xlabel(\"Latitude\")\n",
    "#setting y axis limits to be +-5 from the min and max wind speed\n",
    "plt.ylim([cities_sum_df.iloc[3,5]-5, cities_sum_df.iloc[7,5]+5])\n",
    "plt.ylabel(\"Wind Speed (mph)\")\n",
    "plt.grid()\n",
    "plt.show()\n",
    "\n",
    "#save as png\n",
    "plt.savefig(\"output_data/lat_wind_plot.png\")"
   ]
  },
  {
   "cell_type": "code",
   "execution_count": 46,
   "metadata": {},
   "outputs": [],
   "source": [
    "#add a sentence or two explaining what the code is analyzing\n"
   ]
  },
  {
   "cell_type": "code",
   "execution_count": null,
   "metadata": {},
   "outputs": [],
   "source": []
  },
  {
   "cell_type": "markdown",
   "metadata": {},
   "source": [
    "## Linear Regression"
   ]
  },
  {
   "cell_type": "code",
   "execution_count": null,
   "metadata": {},
   "outputs": [],
   "source": []
  },
  {
   "cell_type": "code",
   "execution_count": 24,
   "metadata": {},
   "outputs": [],
   "source": []
  },
  {
   "cell_type": "code",
   "execution_count": null,
   "metadata": {},
   "outputs": [],
   "source": []
  },
  {
   "cell_type": "markdown",
   "metadata": {},
   "source": [
    "####  Northern Hemisphere - Max Temp vs. Latitude Linear Regression"
   ]
  },
  {
   "cell_type": "code",
   "execution_count": null,
   "metadata": {},
   "outputs": [],
   "source": []
  },
  {
   "cell_type": "code",
   "execution_count": null,
   "metadata": {},
   "outputs": [],
   "source": []
  },
  {
   "cell_type": "code",
   "execution_count": 25,
   "metadata": {},
   "outputs": [
    {
     "name": "stdout",
     "output_type": "stream",
     "text": [
      "The r-value is: 0.46937863826630627\n"
     ]
    },
    {
     "data": {
      "image/png": "[encoded data removed]",
      "text/plain": [
       "<Figure size 432x288 with 1 Axes>"
      ]
     },
     "metadata": {
      "needs_background": "light"
     },
     "output_type": "display_data"
    }
   ],
   "source": []
  },
  {
   "cell_type": "code",
   "execution_count": null,
   "metadata": {},
   "outputs": [],
   "source": []
  },
  {
   "cell_type": "markdown",
   "metadata": {},
   "source": [
    "####  Southern Hemisphere - Max Temp vs. Latitude Linear Regression"
   ]
  },
  {
   "cell_type": "code",
   "execution_count": null,
   "metadata": {},
   "outputs": [],
   "source": []
  },
  {
   "cell_type": "code",
   "execution_count": null,
   "metadata": {},
   "outputs": [],
   "source": []
  },
  {
   "cell_type": "code",
   "execution_count": 26,
   "metadata": {},
   "outputs": [
    {
     "name": "stdout",
     "output_type": "stream",
     "text": [
      "The r-value is: 0.6082708688906918\n"
     ]
    },
    {
     "data": {
      "image/png": "[encoded data removed]",
      "text/plain": [
       "<Figure size 432x288 with 1 Axes>"
      ]
     },
     "metadata": {
      "needs_background": "light"
     },
     "output_type": "display_data"
    }
   ],
   "source": []
  },
  {
   "cell_type": "markdown",
   "metadata": {},
   "source": [
    "####  Northern Hemisphere - Humidity (%) vs. Latitude Linear Regression"
   ]
  },
  {
   "cell_type": "code",
   "execution_count": null,
   "metadata": {},
   "outputs": [],
   "source": []
  },
  {
   "cell_type": "code",
   "execution_count": null,
   "metadata": {},
   "outputs": [],
   "source": []
  },
  {
   "cell_type": "code",
   "execution_count": 27,
   "metadata": {},
   "outputs": [
    {
     "name": "stdout",
     "output_type": "stream",
     "text": [
      "The r-value is: 0.000543987878808455\n"
     ]
    },
    {
     "data": {
      "image/png": "[encoded data removed]",
      "text/plain": [
       "<Figure size 432x288 with 1 Axes>"
      ]
     },
     "metadata": {
      "needs_background": "light"
     },
     "output_type": "display_data"
    }
   ],
   "source": []
  },
  {
   "cell_type": "markdown",
   "metadata": {},
   "source": [
    "####  Southern Hemisphere - Humidity (%) vs. Latitude Linear Regression"
   ]
  },
  {
   "cell_type": "code",
   "execution_count": null,
   "metadata": {},
   "outputs": [],
   "source": []
  },
  {
   "cell_type": "code",
   "execution_count": null,
   "metadata": {},
   "outputs": [],
   "source": []
  },
  {
   "cell_type": "code",
   "execution_count": 28,
   "metadata": {},
   "outputs": [
    {
     "name": "stdout",
     "output_type": "stream",
     "text": [
      "The r-value is: 0.014985174297345524\n"
     ]
    },
    {
     "data": {
      "image/png": "[encoded data removed]",
      "text/plain": [
       "<Figure size 432x288 with 1 Axes>"
      ]
     },
     "metadata": {
      "needs_background": "light"
     },
     "output_type": "display_data"
    }
   ],
   "source": []
  },
  {
   "cell_type": "code",
   "execution_count": null,
   "metadata": {},
   "outputs": [],
   "source": []
  },
  {
   "cell_type": "code",
   "execution_count": null,
   "metadata": {},
   "outputs": [],
   "source": []
  },
  {
   "cell_type": "code",
   "execution_count": null,
   "metadata": {},
   "outputs": [],
   "source": []
  },
  {
   "cell_type": "markdown",
   "metadata": {},
   "source": [
    "####  Northern Hemisphere - Cloudiness (%) vs. Latitude Linear Regression"
   ]
  },
  {
   "cell_type": "code",
   "execution_count": 29,
   "metadata": {},
   "outputs": [
    {
     "name": "stdout",
     "output_type": "stream",
     "text": [
      "The r-value is: 0.0020898727664228514\n"
     ]
    },
    {
     "data": {
      "image/png": "[encoded data removed]",
      "text/plain": [
       "<Figure size 432x288 with 1 Axes>"
      ]
     },
     "metadata": {
      "needs_background": "light"
     },
     "output_type": "display_data"
    }
   ],
   "source": []
  },
  {
   "cell_type": "code",
   "execution_count": null,
   "metadata": {},
   "outputs": [],
   "source": []
  },
  {
   "cell_type": "markdown",
   "metadata": {},
   "source": [
    "####  Southern Hemisphere - Cloudiness (%) vs. Latitude Linear Regression"
   ]
  },
  {
   "cell_type": "code",
   "execution_count": 30,
   "metadata": {},
   "outputs": [
    {
     "name": "stdout",
     "output_type": "stream",
     "text": [
      "The r-value is: 0.0035263772085582894\n"
     ]
    },
    {
     "data": {
      "image/png": "[encoded data removed]",
      "text/plain": [
       "<Figure size 432x288 with 1 Axes>"
      ]
     },
     "metadata": {
      "needs_background": "light"
     },
     "output_type": "display_data"
    }
   ],
   "source": []
  },
  {
   "cell_type": "code",
   "execution_count": null,
   "metadata": {},
   "outputs": [],
   "source": []
  },
  {
   "cell_type": "markdown",
   "metadata": {},
   "source": [
    "####  Northern Hemisphere - Wind Speed (mph) vs. Latitude Linear Regression"
   ]
  },
  {
   "cell_type": "code",
   "execution_count": 31,
   "metadata": {},
   "outputs": [
    {
     "name": "stdout",
     "output_type": "stream",
     "text": [
      "The r-value is: 0.04019723576144484\n"
     ]
    },
    {
     "data": {
      "image/png": "[encoded data removed]",
      "text/plain": [
       "<Figure size 432x288 with 1 Axes>"
      ]
     },
     "metadata": {
      "needs_background": "light"
     },
     "output_type": "display_data"
    }
   ],
   "source": []
  },
  {
   "cell_type": "code",
   "execution_count": null,
   "metadata": {},
   "outputs": [],
   "source": []
  },
  {
   "cell_type": "markdown",
   "metadata": {},
   "source": [
    "####  Southern Hemisphere - Wind Speed (mph) vs. Latitude Linear Regression"
   ]
  },
  {
   "cell_type": "code",
   "execution_count": 32,
   "metadata": {},
   "outputs": [
    {
     "name": "stdout",
     "output_type": "stream",
     "text": [
      "The r-value is: 0.017128274759839232\n"
     ]
    },
    {
     "data": {
      "image/png": "[encoded data removed]",
      "text/plain": [
       "<Figure size 432x288 with 1 Axes>"
      ]
     },
     "metadata": {
      "needs_background": "light"
     },
     "output_type": "display_data"
    }
   ],
   "source": []
  },
  {
   "cell_type": "code",
   "execution_count": null,
   "metadata": {},
   "outputs": [],
   "source": []
  },
  {
   "cell_type": "code",
   "execution_count": null,
   "metadata": {},
   "outputs": [],
   "source": []
  }
 ],
 "metadata": {
  "anaconda-cloud": {},
  "kernel_info": {
   "name": "python3"
  },
  "kernelspec": {
   "display_name": "Python 3 (ipykernel)",
   "language": "python",
   "name": "python3"
  },
  "language_info": {
   "codemirror_mode": {
    "name": "ipython",
    "version": 3
   },
   "file_extension": ".py",
   "mimetype": "text/x-python",
   "name": "python",
   "nbconvert_exporter": "python",
   "pygments_lexer": "ipython3",
   "version": "3.9.7"
  },
  "latex_envs": {
   "LaTeX_envs_menu_present": true,
   "autoclose": false,
   "autocomplete": true,
   "bibliofile": "biblio.bib",
   "cite_by": "apalike",
   "current_citInitial": 1,
   "eqLabelWithNumbers": true,
   "eqNumInitial": 1,
   "hotkeys": {
    "equation": "Ctrl-E",
    "itemize": "Ctrl-I"
   },
   "labels_anchors": false,
   "latex_user_defs": false,
   "report_style_numbering": false,
   "user_envs_cfg": false
  },
  "nteract": {
   "version": "0.12.3"
  }
 },
 "nbformat": 4,
 "nbformat_minor": 4
}
